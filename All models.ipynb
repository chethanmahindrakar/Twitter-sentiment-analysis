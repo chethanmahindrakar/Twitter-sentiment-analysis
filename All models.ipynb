{
 "cells": [
  {
   "cell_type": "code",
   "execution_count": 12,
   "metadata": {},
   "outputs": [],
   "source": [
    "#Creating baseline models to check for their perofrmance \n",
    "import pandas as pd\n",
    "import json\n",
    "import numpy as np\n",
    "import warnings; warnings.simplefilter('ignore')\n",
    "\n",
    "\n",
    "from sklearn import metrics\n",
    "from sklearn.model_selection import train_test_split\n",
    "from sklearn.feature_extraction.text import CountVectorizer\n",
    "from sklearn.linear_model import LogisticRegression\n",
    "from sklearn.metrics import accuracy_score\n",
    "from sklearn.metrics import f1_score\n",
    "from sklearn.naive_bayes import MultinomialNB\n",
    "\n",
    "\n",
    "#Path Variables\n",
    "train_path = \"C:/Users/cheth/Anaconda Python/Twitter Sentiment Analysis/dataset/train.json\"\n",
    "test_path = \"C:/Users/cheth/Anaconda Python/Twitter Sentiment Analysis/dataset/test.json\""
   ]
  },
  {
   "cell_type": "code",
   "execution_count": 13,
   "metadata": {},
   "outputs": [],
   "source": [
    "\n",
    "#Reading the training dataset\n",
    "train = pd.read_json(train_path)\n",
    "#Reading the testing dataset\n",
    "test = pd.read_json(test_path)"
   ]
  },
  {
   "cell_type": "code",
   "execution_count": 14,
   "metadata": {},
   "outputs": [],
   "source": [
    "def convert(label):\n",
    "    if(label == 'pos'):\n",
    "        return 'Positive'\n",
    "    else:\n",
    "        return 'Negative'\n",
    "    \n",
    "#Changing Pos and Neg to Positive and negetive in train data\n",
    "train['label'] = train.apply(lambda row: convert(row['label']), axis=1)\n",
    "\n",
    "#Changing Pos and Neg to Positive and negetive in train data\n",
    "test['label'] = test.apply(lambda row: convert(row['label']), axis=1)\n"
   ]
  },
  {
   "cell_type": "code",
   "execution_count": 15,
   "metadata": {},
   "outputs": [],
   "source": [
    "#Making the trianing data ready\n",
    "x = train['text']\n",
    "y = train['label']\n",
    "\n",
    "#Making the test data ready\n",
    "x1 = test['text']\n",
    "y1 = test['label']"
   ]
  },
  {
   "cell_type": "code",
   "execution_count": 16,
   "metadata": {},
   "outputs": [
    {
     "data": {
      "text/html": [
       "<div>\n",
       "<style scoped>\n",
       "    .dataframe tbody tr th:only-of-type {\n",
       "        vertical-align: middle;\n",
       "    }\n",
       "\n",
       "    .dataframe tbody tr th {\n",
       "        vertical-align: top;\n",
       "    }\n",
       "\n",
       "    .dataframe thead th {\n",
       "        text-align: right;\n",
       "    }\n",
       "</style>\n",
       "<table border=\"1\" class=\"dataframe\">\n",
       "  <thead>\n",
       "    <tr style=\"text-align: right;\">\n",
       "      <th></th>\n",
       "      <th>Negative</th>\n",
       "      <th>Positive</th>\n",
       "    </tr>\n",
       "  </thead>\n",
       "  <tbody>\n",
       "    <tr>\n",
       "      <th>0</th>\n",
       "      <td>1</td>\n",
       "      <td>0</td>\n",
       "    </tr>\n",
       "    <tr>\n",
       "      <th>1</th>\n",
       "      <td>1</td>\n",
       "      <td>0</td>\n",
       "    </tr>\n",
       "    <tr>\n",
       "      <th>2</th>\n",
       "      <td>1</td>\n",
       "      <td>0</td>\n",
       "    </tr>\n",
       "    <tr>\n",
       "      <th>3</th>\n",
       "      <td>1</td>\n",
       "      <td>0</td>\n",
       "    </tr>\n",
       "    <tr>\n",
       "      <th>4</th>\n",
       "      <td>1</td>\n",
       "      <td>0</td>\n",
       "    </tr>\n",
       "    <tr>\n",
       "      <th>...</th>\n",
       "      <td>...</td>\n",
       "      <td>...</td>\n",
       "    </tr>\n",
       "    <tr>\n",
       "      <th>19995</th>\n",
       "      <td>0</td>\n",
       "      <td>1</td>\n",
       "    </tr>\n",
       "    <tr>\n",
       "      <th>19996</th>\n",
       "      <td>0</td>\n",
       "      <td>1</td>\n",
       "    </tr>\n",
       "    <tr>\n",
       "      <th>19997</th>\n",
       "      <td>0</td>\n",
       "      <td>1</td>\n",
       "    </tr>\n",
       "    <tr>\n",
       "      <th>19998</th>\n",
       "      <td>0</td>\n",
       "      <td>1</td>\n",
       "    </tr>\n",
       "    <tr>\n",
       "      <th>19999</th>\n",
       "      <td>0</td>\n",
       "      <td>1</td>\n",
       "    </tr>\n",
       "  </tbody>\n",
       "</table>\n",
       "<p>20000 rows × 2 columns</p>\n",
       "</div>"
      ],
      "text/plain": [
       "       Negative  Positive\n",
       "0             1         0\n",
       "1             1         0\n",
       "2             1         0\n",
       "3             1         0\n",
       "4             1         0\n",
       "...         ...       ...\n",
       "19995         0         1\n",
       "19996         0         1\n",
       "19997         0         1\n",
       "19998         0         1\n",
       "19999         0         1\n",
       "\n",
       "[20000 rows x 2 columns]"
      ]
     },
     "execution_count": 16,
     "metadata": {},
     "output_type": "execute_result"
    }
   ],
   "source": [
    "#Performing one hot encoding\n",
    "one_hot_encoded_label_train = pd.get_dummies(y)\n",
    "one_hot_encoded_label_test = pd.get_dummies(y1)\n",
    "\n",
    "one_hot_encoded_label_test"
   ]
  },
  {
   "cell_type": "code",
   "execution_count": 17,
   "metadata": {},
   "outputs": [],
   "source": [
    "#Creating the training set\n",
    "x_train,y_train = (x,y)\n",
    "\n",
    "#Creating the testing set\n",
    "x_test, y_test = (x1,y1)\n"
   ]
  },
  {
   "cell_type": "code",
   "execution_count": 18,
   "metadata": {},
   "outputs": [],
   "source": [
    "#Creating vectors for the tweets\n",
    "vect = CountVectorizer(min_df=2, ngram_range=(1, 1))\n",
    "x_train = vect.fit(x_train).transform(x_train) \n",
    "x_test = vect.transform(x_test)\n",
    "\n"
   ]
  },
  {
   "cell_type": "code",
   "execution_count": 8,
   "metadata": {},
   "outputs": [
    {
     "name": "stdout",
     "output_type": "stream",
     "text": [
      "Accuracy for C=0.75: 0.7646\n",
      "Accuracy for C=1: 0.7639\n",
      "Accuracy for C=2: 0.76035\n",
      "Accuracy for C=3: 0.7569\n",
      "Accuracy for C=4: 0.7553\n",
      "Accuracy for C=5: 0.7539\n",
      "Accuracy for C=10: 0.75035\n"
     ]
    }
   ],
   "source": [
    "#LOGISTIC REGRESSION MODEL\n",
    "\n",
    "c_val = [0.75, 1, 2, 3, 4, 5, 10]\n",
    "\n",
    "for c in c_val:\n",
    "    logreg = LogisticRegression(C=c)\n",
    "    logreg.fit(x_train, y_train)\n",
    "    print (\"Accuracy for C=%s: %s\" % (c, accuracy_score(y_test, logreg.predict(x_test))))\n",
    "    #print (\"F1 for C=%s: %s\" % (c, f1_score(y_test, logreg.predict(x_test))))"
   ]
  },
  {
   "cell_type": "code",
   "execution_count": 9,
   "metadata": {},
   "outputs": [
    {
     "name": "stdout",
     "output_type": "stream",
     "text": [
      "Accuracy score = 76.02%\n"
     ]
    }
   ],
   "source": [
    "#Naive Bayses classifier\n",
    "MNB = MultinomialNB()\n",
    "MNB.fit(x_train,y_train)\n",
    "predicted = MNB.predict(x_test)\n",
    "\n",
    "accuracy_score = metrics.accuracy_score(y_test,predicted)\n",
    "print(str('Accuracy score = {:04.2f}'.format(accuracy_score*100))+'%')"
   ]
  },
  {
   "cell_type": "code",
   "execution_count": 10,
   "metadata": {},
   "outputs": [
    {
     "name": "stdout",
     "output_type": "stream",
     "text": [
      "Accuracy score =   0.7399\n"
     ]
    }
   ],
   "source": [
    "#Random Forest Classifier\n",
    "import random\n",
    "seed = 666\n",
    "from sklearn.ensemble import RandomForestClassifier\n",
    "models = RandomForestClassifier(random_state=seed,n_estimators=40)\n",
    "models.fit(x_train,y_train)\n",
    "y_pred=models.predict(x_test)\n",
    "\n",
    "print(\"Accuracy score =  \",metrics.accuracy_score(y_test, y_pred))"
   ]
  },
  {
   "cell_type": "code",
   "execution_count": null,
   "metadata": {},
   "outputs": [],
   "source": []
  }
 ],
 "metadata": {
  "kernelspec": {
   "display_name": "Python 3",
   "language": "python",
   "name": "python3"
  },
  "language_info": {
   "codemirror_mode": {
    "name": "ipython",
    "version": 3
   },
   "file_extension": ".py",
   "mimetype": "text/x-python",
   "name": "python",
   "nbconvert_exporter": "python",
   "pygments_lexer": "ipython3",
   "version": "3.7.6"
  }
 },
 "nbformat": 4,
 "nbformat_minor": 4
}